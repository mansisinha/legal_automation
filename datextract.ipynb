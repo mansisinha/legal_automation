{
  "nbformat": 4,
  "nbformat_minor": 0,
  "metadata": {
    "colab": {
      "name": "datextract.ipynb",
      "version": "0.3.2",
      "provenance": [],
      "include_colab_link": true
    },
    "kernelspec": {
      "name": "python3",
      "display_name": "Python 3"
    }
  },
  "cells": [
    {
      "cell_type": "markdown",
      "metadata": {
        "id": "view-in-github",
        "colab_type": "text"
      },
      "source": [
        "<a href=\"https://colab.research.google.com/github/mansisinha/legal_automation/blob/master/datextract.ipynb\" target=\"_parent\"><img src=\"https://colab.research.google.com/assets/colab-badge.svg\" alt=\"Open In Colab\"/></a>"
      ]
    },
    {
      "metadata": {
        "id": "5WKJj8csmEU4",
        "colab_type": "code",
        "colab": {}
      },
      "cell_type": "code",
      "source": [
        "from gensim.summarization.summarizer import summarize"
      ],
      "execution_count": 0,
      "outputs": []
    },
    {
      "metadata": {
        "id": "qDRo40LPmckR",
        "colab_type": "code",
        "colab": {}
      },
      "cell_type": "code",
      "source": [
        "import numpy as np\n",
        "import pandas as pd\n",
        "import nltk"
      ],
      "execution_count": 0,
      "outputs": []
    },
    {
      "metadata": {
        "id": "9K02tn2Zmkrp",
        "colab_type": "code",
        "colab": {}
      },
      "cell_type": "code",
      "source": [
        "from nltk.tokenize import sent_tokenize"
      ],
      "execution_count": 0,
      "outputs": []
    },
    {
      "metadata": {
        "id": "GLfRjzzQnGzv",
        "colab_type": "code",
        "colab": {
          "base_uri": "https://localhost:8080/",
          "height": 469
        },
        "outputId": "93095b7c-600d-42de-85c8-81d31bf7f651"
      },
      "cell_type": "code",
      "source": [
        "from dateutil.parser import parse\n",
        "\n",
        "test_cases = ['04/30/2009', '06/20/95', '8/2/69', '1/25/2011', '9/3/2002', '4-13-82', 'Mar-02-2009', 'Jan 20, 1974',\n",
        "              'March 20, 1990', 'Dec. 21, 2001', 'May 25 2009', '01 Mar 2002', '2 April 2003', '20 Aug. 2004',\n",
        "              '20 November, 1993', 'Aug 10th, 1994', 'Sept 1st, 2005', 'Feb. 22nd, 1988', 'Sept 2002', 'Sep 2002',\n",
        "              'December, 1998', 'Oct. 2000', '6/2008', '12/2001', '1998', '2002']\n",
        "\n",
        "for date_string in test_cases:\n",
        "    print(date_string, parse(date_string).strftime(\"%Y-%m-%d\"))"
      ],
      "execution_count": 2,
      "outputs": [
        {
          "output_type": "stream",
          "text": [
            "04/30/2009 2009-04-30\n",
            "06/20/95 1995-06-20\n",
            "8/2/69 1969-08-02\n",
            "1/25/2011 2011-01-25\n",
            "9/3/2002 2002-09-03\n",
            "4-13-82 1982-04-13\n",
            "Mar-02-2009 2009-03-02\n",
            "Jan 20, 1974 1974-01-20\n",
            "March 20, 1990 1990-03-20\n",
            "Dec. 21, 2001 2001-12-21\n",
            "May 25 2009 2009-05-25\n",
            "01 Mar 2002 2002-03-01\n",
            "2 April 2003 2003-04-02\n",
            "20 Aug. 2004 2004-08-20\n",
            "20 November, 1993 1993-11-20\n",
            "Aug 10th, 1994 1994-08-10\n",
            "Sept 1st, 2005 2005-09-01\n",
            "Feb. 22nd, 1988 1988-02-22\n",
            "Sept 2002 2002-09-16\n",
            "Sep 2002 2002-09-16\n",
            "December, 1998 1998-12-16\n",
            "Oct. 2000 2000-10-16\n",
            "6/2008 2008-06-16\n",
            "12/2001 2001-12-16\n",
            "1998 1998-03-16\n",
            "2002 2002-03-16\n"
          ],
          "name": "stdout"
        }
      ]
    },
    {
      "metadata": {
        "id": "-_tSdIcDLviN",
        "colab_type": "code",
        "colab": {
          "base_uri": "https://localhost:8080/",
          "height": 176
        },
        "outputId": "386d1f04-755f-4dd5-a960-46253c3b36f1"
      },
      "cell_type": "code",
      "source": [
        "!pip install datefinder\n"
      ],
      "execution_count": 3,
      "outputs": [
        {
          "output_type": "stream",
          "text": [
            "Collecting datefinder\n",
            "  Downloading https://files.pythonhosted.org/packages/16/2b/af8efaee30c0ba4238cb4d0645a07100d33d11d20a8783c443ed8b813eb9/datefinder-0.7.0-py2.py3-none-any.whl\n",
            "Requirement already satisfied: regex>=2017.02.08 in /usr/local/lib/python3.6/dist-packages (from datefinder) (2018.1.10)\n",
            "Requirement already satisfied: pytz in /usr/local/lib/python3.6/dist-packages (from datefinder) (2018.9)\n",
            "Requirement already satisfied: python-dateutil>=2.4.2 in /usr/local/lib/python3.6/dist-packages (from datefinder) (2.5.3)\n",
            "Requirement already satisfied: six>=1.5 in /usr/local/lib/python3.6/dist-packages (from python-dateutil>=2.4.2->datefinder) (1.11.0)\n",
            "Installing collected packages: datefinder\n",
            "Successfully installed datefinder-0.7.0\n"
          ],
          "name": "stdout"
        }
      ]
    },
    {
      "metadata": {
        "id": "wOED8XNrNJOv",
        "colab_type": "code",
        "colab": {
          "base_uri": "https://localhost:8080/",
          "height": 34
        },
        "outputId": "fa526862-bee6-4a17-ff2e-c140c52ca8f0"
      },
      "cell_type": "code",
      "source": [
        "import datefinder\n",
        "\n",
        "string='''Commissioner of Income Tax, West Bengal v A. W. Figgies and Company, and Others\n",
        "Supreme Court of India\n",
        "\n",
        "24 September 1953\n",
        "Civil Appeal No. 77 of 1952.\n",
        "The Judgment was delivered by : Mehr Chand Mahajan, J.\n",
        "1. This is an appeal from a judgment of the High Court of Judicature at Calcutta delivered in a reference under section 66(1) of the Indian Income tax Act, whereby the High Court answered the question referred in the affirmative.'''\n",
        "\n",
        "matches = datefinder.find_dates(string)\n",
        "l=[]\n",
        "for match in matches:\n",
        "    l.append(match)\n",
        "\n",
        "print(l[0])"
      ],
      "execution_count": 6,
      "outputs": [
        {
          "output_type": "stream",
          "text": [
            "1953-09-24 00:00:00\n"
          ],
          "name": "stdout"
        }
      ]
    }
  ]
}